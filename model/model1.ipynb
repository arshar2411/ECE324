{
 "cells": [
  {
   "cell_type": "code",
   "execution_count": null,
   "metadata": {},
   "outputs": [],
   "source": [
    "import torch\n",
    "import data_collection\n",
    "from sklearn.model_selection import train_test_split\n",
    "import matplotlib.pyplot as plt\n",
    "import numpy as np\n",
    "import pandas as pd\n",
    "import scipy\n",
    "import torch.nn as nn\n",
    "import math\n",
    "\n",
    "df = pd.read_csv('data_collection/tiktok-trending.csv')\n",
    "\n"
   ]
  },
  {
   "cell_type": "code",
   "execution_count": null,
   "metadata": {},
   "outputs": [],
   "source": [
    "features = ['TikTok ID','User Verified','Music ID','Music Title','Music Author','Music URL','Video Duration']\n",
    "x = df[features]\n",
    "y = df['Play Count']\n",
    "\n",
    "x_train, x_test, y_train, y_test = train_test_split(x, y, train_size=0.80, random_state=100\n",
    "                                                    )\n",
    "X_train = torch.tensor(x_train.values).type(torch.FloatTensor)\n",
    "X_test = torch.tensor(x_test.values).type(torch.FloatTensor)\n",
    "Y_train = torch.tensor(y_train.values).type(torch.FloatTensor)\n",
    "Y_test = torch.tensor(y_test.values).type(torch.FloatTensor)\n"
   ]
  },
  {
   "cell_type": "code",
   "execution_count": null,
   "metadata": {},
   "outputs": [],
   "source": [
    "class LogisticRegression(torch.nn.Module):\n",
    "     def __init__(self):\n",
    "         super(LogisticRegression, self).__init__()\n",
    "         self.linear = torch.nn.Linear(x_train.shape[1],1)\n",
    "     def forward(self, x):\n",
    "         logits = torch.sigmoid(self.linear(x))\n",
    "         return logits\n",
    "\n",
    "seed = 12\n",
    "torch.manual_seed(seed)\n",
    "torch.cuda.manual_seed_all(seed)\n",
    "epochs = 20000\n",
    "learning_rate = 0.001\n",
    "model = LogisticRegression()\n",
    "criterion = nn.BCELoss()\n",
    "optimizer = torch.optim.SGD(model.parameters(),learning_rate)\n",
    "losses = []\n",
    "testLosses = []\n",
    "# threshold = 0.5\n",
    "\n",
    "for epoch in range(epochs):\n",
    "    model.train()\n",
    "    optimizer.zero_grad()\n",
    "    Y_pred = torch.squeeze(model(X_train))    \n",
    "    # print(Y_pred.shape,Y_train.shape)\n",
    "    # print(Y_pred,Y_train)\n",
    "    loss = criterion(Y_pred,Y_train)\n",
    "    # print(loss)\n",
    "    loss.backward()\n",
    "    optimizer.step()\n",
    "    \n",
    "with torch.no_grad():\n",
    "    testRight = 0\n",
    "    testTot = 0\n",
    "    testOut = torch.squeeze(model(X_test))\n",
    "    # print(type(testOut))\n",
    "    testLoss = criterion(testOut,Y_test)\n",
    "    # print(Y_test.size())\n",
    "    testPred =testOut\n",
    "    testAcc =testOut.round().detach().numpy()\n",
    "    # testPred =testOut.round().detach().numpy()\n",
    "    # testPred =(testOut>threshold).detach().numpy()\n",
    "    # print(type(testOut))\n",
    "    testTot = Y_test.size(0)\n",
    "    testRight = np.sum(testAcc == Y_test.detach().numpy())\n",
    "    accuracy = 100 * testRight/testTot\n",
    "    testLosses.append(testLoss.item())\n",
    "    print(accuracy)"
   ]
  }
 ],
 "metadata": {
  "language_info": {
   "name": "python"
  },
  "orig_nbformat": 4
 },
 "nbformat": 4,
 "nbformat_minor": 2
}
